{
 "cells": [
  {
   "cell_type": "code",
   "execution_count": 25,
   "id": "eb7be4df-60a0-4b79-bceb-7fae40ffce36",
   "metadata": {},
   "outputs": [],
   "source": [
    "from pickle import loads\n",
    "import blosc\n",
    "import json\n",
    "\n",
    "with open('jcvi.prost.db.pkl','rb') as f:\n",
    "    db = loads(blosc.decompress(f.read()))"
   ]
  },
  {
   "cell_type": "code",
   "execution_count": 4,
   "id": "67e93c02-6fe0-474c-81fe-8333aa9f1e7c",
   "metadata": {},
   "outputs": [],
   "source": [
    "intro='''Minimal Organisim JCVI-Syn3a PROST Results\n",
    "------------------------------------------\n",
    "\n",
    "This page presents PROST analysis of J. Craig Venter Institute (JCVI) _Syn3a_ (minimal organism) [\\[1\\]](https://doi.org/10.1126/science.aad6253)[\\[2\\]](https://doi.org/10.7554/eLife.36842) genes. Each link in the _NCBI ID_ column opens a detail page for that protein. Homologs for each protein were found by three different tools: PROST [\\[3\\]](https://www.biorxiv.org/content/10.1101/2022.03.10.483778v1), BLAST[\\[4\\]](https://doi.org/10.1016/S0022-2836(05)80360-2), and Foldseek[\\[5\\]](https://doi.org/10.1101/2022.02.07.479398). Later, a structural alignment tool FATCAT [\\[6\\]](https://doi.org/10.1093/nar/gkaa443), is used to get the significance of the structural alignment of the minimal organism protein with its homologs. The most significant structural homolog named as best homolog shown in this table with its function for reference. A detailed explanation of each column is given below:\n",
    "\n",
    "*   **NCBI ID:** NCBI identification tag for minimal organism protein. Opens a detail page for that protein.\n",
    "*   **JCVI ID:** JCVI identification tag for the same protein.\n",
    "*   **Function:** Assigned function of the minimal organism protein when it's published.\n",
    "*   **Classification:** Initial classification of minimal organism proteins using the TIGRfam database by its authors [\\[1\\]](https://doi.org/10.1126/science.aad6253)\n",
    "*   **Best Homolog:** The most significant structural homolog for the minimal organism protein.\n",
    "*   **Hom. Func.:** The function of the most significant structural homolog.\n",
    "*   **P-Score:** The structural similarty statistical significance value produced by FATCAT [\\[6\\]](https://doi.org/10.1093/nar/gkaa443) structural alignment tool. This value indicates the similarity between the JCVI-Syn3a protein with its closest homolog.\n",
    "*   **Seq-Id:** The sequence identity score produced by the global alignment algorithm using the ProtSub matrix [\\[7\\]](https://doi.org/10.1002/prot.26050) with a gap opening of 5 and gap extension 1 penalties.\n",
    "*   **Hom. Source:** The tool that found the most significant structural homolog.\n",
    "*   **PROST Hom:** The number of homologs found by PROST.\n",
    "*   **BLAST Hom:** The number of homologs found by BLAST.\n",
    "*   **Foldseek Hom:** The number of homologs found by Foldseek.'''"
   ]
  },
  {
   "cell_type": "code",
   "execution_count": 39,
   "id": "aece0219-dad8-4605-9153-71b7fd9f806e",
   "metadata": {},
   "outputs": [],
   "source": [
    "website = {\n",
    "    'md:intro':intro,\n",
    "    'table:results': {\n",
    "        'columns': ['l:NCBI ID','JCVI ID','Function','Classification','l:Best Homolog','Homolog Function','FATCAT P-Score','Sequence Identity','Homolog Source','# PROST Hom.','# BLAST Hom.','# Foldseek Hom.'],\n",
    "        'rows':[]\n",
    "    },\n",
    "    'navpage:disc':{\n",
    "        'p:info':'For documents and software available from this server, we do not warrant or assume any legal liability or responsibility for the accuracy, completeness, or usefulness of any information, product, or process disclosed. We do not endorse or recommend any commercial products, processes, or services. Some pages may provide links to other Internet sites for the convenience of users. We are not responsible for the availability or content of these external sites, nor do we endorse, warrant, or guarantee the products, services, or information described or offered at these other Internet sites. Information that is created by this site is within the public domain. It is not the intention to provide specific medically related advice but rather to provide users with information for better understanding. However, it is requested that in any subsequent use of this work, PROST be given appropriate acknowledgment. We do not collect any personally identifiable information (PII) about visitors to our Web sites.'\n",
    "    }\n",
    "}\n",
    "\n",
    "def tr_source(sr):\n",
    "    if   sr == '1. PBF': return 'PROST+BLAST+Foldseek'\n",
    "    elif sr == '2. PF': return 'PROST+Foldseek'\n",
    "    elif sr == '3. BF': return 'BLAST+Foldseek'\n",
    "    elif sr == '4. PB': return 'PROST+BLAST'\n",
    "    elif sr == '5. P': return 'Only PROST'\n",
    "    elif sr == '6. F': return 'Only Foldseek'\n",
    "    elif sr == '7. B': return 'Only BLAST'\n",
    "    else: return 'NA'\n",
    "\n",
    "summary = []\n",
    "for p in db:\n",
    "    info = db[p]\n",
    "    jcviID = info[0][1].split('_')[1]\n",
    "    website['table:results']['rows'].append(['/'+jcviID+'@'+p,                                               #NCBI ID\n",
    "                                             jcviID,                                                         #JCVI ID\n",
    "                                             info[0][3],info[0][4],                                          #Function\n",
    "                                             info[0][5],                                                     #Classification\n",
    "                                             'https://www.uniprot.org/uniprot/'+info[1][0]+'@'+info[1][0],   #l:Best Homolog\n",
    "                                             info[1][3],                                                     #Homolog Function\n",
    "                                             info[1][1],                                                     #FATCAT P-Score\n",
    "                                             info[1][2],                                                     #Sequence Identity\n",
    "                                             tr_source(info[1][4]),                                          #Homolog Source\n",
    "                                             info[0][19],                                                    # # PROST Hom.\n",
    "                                             info[0][20],                                                    # # BLAST Hom.\n",
    "                                             info[0][21]])                                                   # # Foldseek Hom.\n",
    "    website['page:'+jcviID] = {\n",
    "        'md:info':f'''Summary\n",
    "-------\n",
    "\n",
    "The _literature_ section presents previous knowledge about this protein. There have been five different efforts to annotate minimal organism genome. The annotations from those efforts are given in the _Literature_ section for completeness.\n",
    "        ''',\n",
    "        'md:s1:4':f'''##### {info[0][0]}\n",
    "\n",
    "###### {info[0][1]}\n",
    "\n",
    "{info[0][3]}.  \n",
    "_M. mycoides_ homolog: {info[0][2]}.  \n",
    "TIGRfam Classification: {info[0][4]}.  \n",
    "Category: {info[0][5]}.\n",
    "        ''',\n",
    "        'md:s2:4':f'''##### Statistics\n",
    "\n",
    "Total GO Annotation: {info[0][6]}  \n",
    "Unique PROST Go: {info[0][7]}  \n",
    "Unique BLAST Go: {info[0][8]}  \n",
    "Unique Foldseek Go: {info[0][9]}\n",
    "\n",
    "Total Homologs: {info[0][10]}  \n",
    "Unique PROST Homologs: {info[0][11]}  \n",
    "Unique BLAST Homologs: {info[0][12]}  \n",
    "Unique Foldseek Homologs: {info[0][13]}\n",
    "        ''',\n",
    "        'md:s3:4':f'''##### Literature\n",
    "\n",
    "* Danchin and Fang [\\[1\\]](https://doi.org/10.1111/1751-7915.12384): {info[0][14]}  \n",
    "* Yang and Tsui [\\[2\\]](https://pubs.acs.org/doi/10.1021/acs.jproteome.8b00262): {info[0][15]}  \n",
    "* Antczak et al. [\\[3\\]](https://doi.org/10.1038/s41467-019-10837-2): {info[0][16]}  \n",
    "* Zhang et al. [\\[4\\]](https://pubs.acs.org/doi/10.1021/acs.jproteome.0c00359?ref=pdf): {info[0][17]} \n",
    "* Bianchi et al. [\\[5\\]](https://pubs.acs.org/doi/full/10.1021/acs.jpcb.2c04188): {info[0][18]}\n",
    "        ''',\n",
    "        'md:a1':f'''Structures and Sequence Alignment\n",
    "---------------------------------\n",
    "\n",
    "The best structural homolog that predicted by {info[1][4]} was [{info[1][0]}](https://www.uniprot.org/uniprot/{info[1][0]}) ({info[1][3]}) with a FATCAT **P-Value: {info[1][1]}** and RMSD of **{info[1][5]} angstrom**.  \n",
    "Structural alignment shown below. Query protein {info[0][0]} colored as red in alignment, homolog {info[1][0]} colored as blue. Query protein {info[0][0]} is also shown in right top, homolog {info[1][0]} showed in right bottom. They are colored based on secondary structures.\n",
    "       ''',  \n",
    "        \"alnpdb:a2\":{\n",
    "        \"pdb1\":f\"https://raw.githubusercontent.com/MesihK/minweb/master/static/results/{info[0][0]}/query.pdb\",\n",
    "        \"name1\":info[0][0],\n",
    "        \"pdb2\":f\"https://raw.githubusercontent.com/MesihK/minweb/master/static/results/{info[0][0]}/target.pdb\",\n",
    "        \"name2\":info[1][0],\n",
    "        \"alnpdb\":f\"https://raw.githubusercontent.com/MesihK/minweb/master/static/results/{info[0][0]}/aln.pdb\",\n",
    "        \"lineLen\":120,\n",
    "        \"info\":\"\"\n",
    "      },\n",
    "      'md:go1':f'''Go Annotations\n",
    "--------------\n",
    "\n",
    "**1\\. PBF** indicates the go terms that are found by both PROST and BLAST and Foldseek.  \n",
    "**2\\. PF** indicates the go terms that are found by only PROST and Foldseek.  \n",
    "**3\\. BF** indicates the go terms that are found by only BLAST and Foldseek.  \n",
    "**4\\. PB** indicates the go terms that are found by both PROST and BLAST.  \n",
    "**5\\. P** indicates the go terms that are found by only PROST.  \n",
    "**6\\. F** indicates the go terms that are found by only Foldseek.  \n",
    "**7\\. B** indicates the go terms that are found by only BLAST.\n",
    "      ''',\n",
    "      'table:go1': {\n",
    "        'columns': ['Source','l:GO','Description'],\n",
    "        'rows':[]\n",
    "      },\n",
    "      'md:go2':f'''Uniprot GO Annotations\n",
    "----------------------\n",
    "      ''',\n",
    "      'table:go2': {\n",
    "        'columns': ['l:GO','Description'],\n",
    "        'rows':[]\n",
    "      },\n",
    "      'md:hom':f'''Homologs\n",
    "--------\n",
    "\n",
    "**1\\. PBF** indicates the homologs that are found by both PROST and BLAST and Foldseek.  \n",
    "**2\\. PF** indicates the homologs that are found by only PROST and Foldseek.  \n",
    "**3\\. BF** indicates the homologs that are found by only BLAST and Foldseek.  \n",
    "**4\\. PB** indicates the homologs that are found by both PROST and BLAST.  \n",
    "**5\\. P** indicates the homologs that are found by only PROST.  \n",
    "**6\\. F** indicates the homologs that are found by only Foldseek.  \n",
    "**7\\. B** indicates the homologs that are found by only BLAST.\n",
    "      ''',\n",
    "      'table:hom': {\n",
    "        'columns': ['Source','l:Homolog','Description','Fatcat P-value','PROST E-value','BLAST E-value','Foldseek TM-Score'],\n",
    "        'rows':[]\n",
    "      }\n",
    "    }\n",
    "    for g in info[2]:\n",
    "        website['page:'+jcviID]['table:go1']['rows'].append([g[0],f'http://amigo.geneontology.org/amigo/term/{g[1]}@{g[1]}',g[2]])\n",
    "    for g in info[3]:\n",
    "        website['page:'+jcviID]['table:go2']['rows'].append([f'http://amigo.geneontology.org/amigo/term/{g[0]}@{g[0]}',g[1]])\n",
    "    for h in info[4]:\n",
    "        website['page:'+jcviID]['table:hom']['rows'].append([h[0],f'https://www.uniprot.org/uniprot/{h[1]}@{h[1]}',h[2],h[3],h[4],h[5],h[6]])"
   ]
  },
  {
   "cell_type": "code",
   "execution_count": 24,
   "id": "1941cd00-4097-4070-904b-d5b106ebec7c",
   "metadata": {},
   "outputs": [
    {
     "data": {
      "text/plain": [
       "{'md:info': 'Summary\\n-------\\n\\nThe _literature_ section presents previous knowledge about this protein. There have been five different efforts to annotate minimal organism genome. The annotations from those efforts are given in the _Literature_ section for completeness.\\n\\n##### AVX54569.1\\n\\n###### JCVISYN3A_0001\\n\\nChromosomal replication initiator protein.  \\n_M. mycoides_ homolog: Q6MUM7.  \\nTIGRfam Classification: 5=Equivalog.  \\nCategory: Essential.\\n\\n##### Statistics\\n\\nTotal GO Annotation: 44  \\nUnique PROST Go: 4  \\nUnique BLAST Go: 0  \\nUnique Foldseek Go: 23\\n\\nTotal Homologs: 833  \\nUnique PROST Homologs: 17  \\nUnique BLAST Homologs: 2  \\nUnique Foldseek Homologs: 209\\n\\n##### Literature\\n\\nDanchin and Fang [\\\\[1\\\\]](https://doi.org/10.1111/1751-7915.12384): NA  \\nYang and Tsui [\\\\[2\\\\]](https://pubs.acs.org/doi/10.1021/acs.jproteome.8b00262): NA  \\nAntczak et al. [\\\\[3\\\\]](https://doi.org/10.1038/s41467-019-10837-2): dnaA; Chromosomal replication initiator protein  \\nZhang et al. [\\\\[4\\\\]](https://pubs.acs.org/doi/10.1021/acs.jproteome.0c00359?ref=pdf): GO:0003688|DNA replication origin binding \\nBianchi et al. [\\\\[5\\\\]](https://pubs.acs.org/doi/full/10.1021/acs.jpcb.2c04188): NA\\n\\nStructures and Sequence Alignment\\n---------------------------------\\n\\nThe best structural homolog that predicted by 1. PBF was [C1FPH3](https://www.uniprot.org/uniprot/C1FPH3) (Chromosomal replication initiator protein DnaA) with a FATCAT **P-Value: 0** and RMSD of **2.00 angstrom**. The sequence alignment identity is **35.6%%**.  \\nStructural alignment shown in left. Query protein AVX54569.1 colored as red in alignment, homolog C1FPH3 colored as blue. Query protein AVX54569.1 is also shown in right top, homolog C1FPH3 showed in right bottom. They are colored based on secondary structures.\\n        '}"
      ]
     },
     "execution_count": 24,
     "metadata": {},
     "output_type": "execute_result"
    }
   ],
   "source": [
    "website['page:0001']"
   ]
  },
  {
   "cell_type": "code",
   "execution_count": 40,
   "id": "13957c61-a950-40e8-bf23-6682714747af",
   "metadata": {},
   "outputs": [],
   "source": [
    "with open('jsonwp/PROST-MinimalOrganismV1.json','w') as f:\n",
    "    f.write(json.dumps(website)) \n"
   ]
  },
  {
   "cell_type": "code",
   "execution_count": 42,
   "id": "1027f7a6-f537-478f-8c43-c1e78383cd60",
   "metadata": {},
   "outputs": [
    {
     "name": "stderr",
     "output_type": "stream",
     "text": [
      "gzip: jsonwp/t1.json: No such file or directory\n"
     ]
    }
   ],
   "source": [
    "!gzip jsonwp/t1.json"
   ]
  }
 ],
 "metadata": {
  "kernelspec": {
   "display_name": "Python 3 (ipykernel)",
   "language": "python",
   "name": "python3"
  },
  "language_info": {
   "codemirror_mode": {
    "name": "ipython",
    "version": 3
   },
   "file_extension": ".py",
   "mimetype": "text/x-python",
   "name": "python",
   "nbconvert_exporter": "python",
   "pygments_lexer": "ipython3",
   "version": "3.9.17"
  }
 },
 "nbformat": 4,
 "nbformat_minor": 5
}
